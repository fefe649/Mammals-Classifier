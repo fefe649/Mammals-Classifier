{
 "cells": [
  {
   "cell_type": "code",
   "execution_count": 3,
   "metadata": {},
   "outputs": [
    {
     "name": "stdout",
     "output_type": "stream",
     "text": [
      "Image Dimension    :  (805, 1200, 3)\n",
      "Image Height       :  805\n",
      "Image Width        :  1200\n",
      "Number of Channels :  3\n"
     ]
    }
   ],
   "source": [
    "# loop over files\n",
    "for fp in os.listdir(path):\n",
    "    print(fp) \n",
    "    #read image\n",
    "    img= cv2.imread('mammals/bear/'+fp, cv2.IMREAD_UNCHANGED)\n",
    "\n",
    "    # get dimensions of image\n",
    "    dimensions = img.shape\n",
    "    \n",
    "    # height, width, number of channels in image\n",
    "    height = img.shape[0]\n",
    "    width = img.shape[1]\n",
    "    channels = img.shape[2]\n",
    "    \n",
    "    \n",
    "    print('Image Height       : ',height)\n",
    "    print('Image Width        : ',width)\n",
    "\n"
   ]
  }
 ],
 "metadata": {
  "kernelspec": {
   "display_name": "Python 3",
   "language": "python",
   "name": "python3"
  },
  "language_info": {
   "codemirror_mode": {
    "name": "ipython",
    "version": 3
   },
   "file_extension": ".py",
   "mimetype": "text/x-python",
   "name": "python",
   "nbconvert_exporter": "python",
   "pygments_lexer": "ipython3",
   "version": "3.11.0"
  }
 },
 "nbformat": 4,
 "nbformat_minor": 2
}
