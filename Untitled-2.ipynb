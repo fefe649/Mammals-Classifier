{
 "cells": [
  {
   "cell_type": "code",
   "execution_count": null,
   "metadata": {},
   "outputs": [],
   "source": [
    "import numpy as np\n",
    "  \n",
    "A = np.array(pred_y)\n",
    "B = np.array(y_val)\n",
    "equal_num = (A == B)\n",
    "num_bool = []\n",
    "count = 0\n",
    "\n",
    "def num():\n",
    "    for i in range(len(equal_num)):\n",
    "        num_bool.append(equal_num)\n",
    "    return num_bool\n",
    "print(num())\n",
    "\n",
    "def equal():\n",
    "    for i in range(len(num_bool)):\n",
    "        if i == True:\n",
    "            count += 1\n",
    "    return count\n",
    "print(equal())"
   ]
  }
 ],
 "metadata": {
  "language_info": {
   "name": "python"
  }
 },
 "nbformat": 4,
 "nbformat_minor": 2
}
