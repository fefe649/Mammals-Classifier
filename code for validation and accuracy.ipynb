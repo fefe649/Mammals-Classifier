{
 "cells": [
  {
   "cell_type": "code",
   "execution_count": 22,
   "metadata": {},
   "outputs": [
    {
     "ename": "SyntaxError",
     "evalue": "invalid syntax (2481276048.py, line 1)",
     "output_type": "error",
     "traceback": [
      "\u001b[1;36m  Cell \u001b[1;32mIn[22], line 1\u001b[1;36m\u001b[0m\n\u001b[1;33m    pip install scikit-image\u001b[0m\n\u001b[1;37m        ^\u001b[0m\n\u001b[1;31mSyntaxError\u001b[0m\u001b[1;31m:\u001b[0m invalid syntax\n"
     ]
    }
   ],
   "source": [
    "pip install scikit-image\n",
    "pip install matplotlib"
   ]
  },
  {
   "cell_type": "code",
   "execution_count": 85,
   "metadata": {},
   "outputs": [
    {
     "data": {
      "text/plain": [
       "24.137931034482758"
      ]
     },
     "execution_count": 85,
     "metadata": {},
     "output_type": "execute_result"
    }
   ],
   "source": [
    "def percent(pred_y, y_val):\n",
    "    A = np.array(pred_y)\n",
    "    B = np.array(y_val)\n",
    "    equal_num = (A == B)\n",
    "    a = np.count_nonzero(equal_num)\n",
    "    b = len(pred_y)\n",
    "    c = ((a/b)*100)\n",
    "    return c\n",
    "percent(pred_y, y_val)"
   ]
  },
  {
   "cell_type": "code",
   "execution_count": 18,
   "metadata": {},
   "outputs": [
    {
     "name": "stdout",
     "output_type": "stream",
     "text": [
      "loading... category : Bear\n",
      "loaded category: Bear successfully\n",
      "loading... category : Cat\n",
      "loaded category: Cat successfully\n",
      "loading... category : Dog\n",
      "loaded category: Dog successfully\n",
      "loading... category : Elephant\n",
      "loaded category: Elephant successfully\n",
      "loading... category : Goat\n",
      "loaded category: Goat successfully\n",
      "loading... category : Horse\n",
      "loaded category: Horse successfully\n",
      "loading... category : Lion\n",
      "loaded category: Lion successfully\n",
      "loading... category : Tiger\n",
      "loaded category: Tiger successfully\n",
      "loading... category : Wolf\n",
      "loaded category: Wolf successfully\n",
      "(574, 67500)\n"
     ]
    }
   ],
   "source": [
    "# create features and targets in data frame\n",
    "\n",
    "\n",
    "from skimage.io import imread\n",
    "from skimage.transform import resize\n",
    "import numpy as np\n",
    "import pandas as pd\n",
    "import cv2\n",
    "import os\n",
    "\n",
    "Categories = ['Bear', 'Cat', 'Dog', 'Elephant', 'Goat', 'Horse', 'Lion', 'Tiger', 'Wolf']\n",
    "\n",
    "\n",
    "flat_data_arr = []\n",
    "\n",
    "\n",
    "target_arr = []\n",
    "\n",
    "\n",
    "for i in Categories:\n",
    "    print(f'loading... category : {i}')\n",
    "   \n",
    "    path=os.path.join(r\"C:\\Users\\User\\Desktop\\Project folder\\mammals\", i) # joins the first part of the directory with the species' name\n",
    "    for img in os.listdir(path): # for all entries in  the directory WHICH ARE THE IMAGES\n",
    "\n",
    "\n",
    "        img_array = imread(os.path.join(path, img)) # create an array for the images, the array stores the path of each image\n",
    "\n",
    "\n",
    "        img_resized = resize(img_array, (150, 150, 3)) # resizes all the images so they are uniform\n",
    "\n",
    "\n",
    "        flat_data_arr.append(img_resized.flatten()) # also resizes the image into a 1d array\n",
    "\n",
    "\n",
    "        target_arr.append(Categories.index(i)) # appends the name of the species\n",
    "\n",
    "\n",
    "    print(f'loaded category: {i} successfully')\n",
    "\n",
    "\n",
    "flat_data = np.array(flat_data_arr)\n",
    "print(flat_data.shape)\n",
    "\n",
    "\n",
    "target = np.array(target_arr) # species\n",
    "\n",
    "\n",
    "df=pd.DataFrame(flat_data)\n",
    "df['Target'] = target # label?\n",
    "x = df.iloc[:,:-1]\n",
    "y = df.iloc[:,-1]"
   ]
  },
  {
   "cell_type": "code",
   "execution_count": 23,
   "metadata": {},
   "outputs": [
    {
     "name": "stdout",
     "output_type": "stream",
     "text": [
      "x_train : \n",
      "        0         1         2         3         4         5         6      \\\n",
      "185  0.495022  0.563735  0.588241  0.429684  0.472286  0.430181  0.495603   \n",
      "224  0.122604  0.131681  0.040747  0.109180  0.113031  0.050263  0.109257   \n",
      "221  0.064910  0.125163  0.096839  0.060222  0.119524  0.097071  0.065052   \n",
      "31   0.076931  0.101664  0.051198  0.072200  0.093868  0.056804  0.080117   \n",
      "25   0.745494  0.709339  0.674113  0.753952  0.722700  0.689705  0.721174   \n",
      "\n",
      "        7         8         9      ...     67490     67491     67492  \\\n",
      "185  0.542755  0.533981  0.624805  ...  0.251238  0.589041  0.589051   \n",
      "224  0.102468  0.058677  0.130758  ...  0.574754  0.984080  0.795583   \n",
      "221  0.118876  0.100543  0.073667  ...  0.536786  0.557664  0.528423   \n",
      "31   0.102504  0.057921  0.106613  ...  0.801922  0.601461  0.632388   \n",
      "25   0.688910  0.659137  0.617190  ...  0.490024  0.621847  0.565066   \n",
      "\n",
      "        67493     67494     67495     67496     67497     67498     67499  \n",
      "185  0.339815  0.565434  0.587539  0.358656  0.574995  0.606434  0.385012  \n",
      "224  0.497743  0.974421  0.784651  0.510785  0.965142  0.760517  0.503479  \n",
      "221  0.520575  0.536346  0.522212  0.507355  0.518384  0.505501  0.484254  \n",
      "31   0.714937  0.645242  0.663721  0.738404  0.720896  0.729682  0.790515  \n",
      "25   0.488778  0.562687  0.512784  0.425706  0.520500  0.466623  0.399087  \n",
      "\n",
      "[5 rows x 67500 columns]\n",
      "(459, 67500)\n",
      "\n",
      "x_test : \n",
      "        0         1         2         3         4         5         6      \\\n",
      "98   0.190421  0.174734  0.139440  0.204524  0.188838  0.153402  0.215937   \n",
      "436  0.361833  0.373549  0.386845  0.424786  0.420517  0.412688  0.330344   \n",
      "18   0.414410  0.625572  0.328666  0.377798  0.574077  0.299127  0.344056   \n",
      "547  0.354665  0.296232  0.164769  0.367113  0.285954  0.131651  0.374893   \n",
      "28   0.596626  0.679036  0.745532  0.593785  0.676152  0.742742  0.592207   \n",
      "\n",
      "        7         8         9      ...     67490     67491     67492  \\\n",
      "98   0.200250  0.160310  0.223996  ...  0.540349  0.649673  0.604355   \n",
      "436  0.333909  0.327834  0.349451  ...  0.322186  0.295637  0.314975   \n",
      "18   0.549714  0.289573  0.358957  ...  0.329010  0.531054  0.626312   \n",
      "547  0.268231  0.096318  0.356581  ...  0.046516  0.209821  0.190734   \n",
      "28   0.672932  0.739596  0.605463  ...  0.772983  0.801442  0.790683   \n",
      "\n",
      "        67493     67494     67495     67496     67497     67498     67499  \n",
      "98   0.467840  0.711051  0.661461  0.521506  0.701580  0.647998  0.512013  \n",
      "436  0.307076  0.290677  0.309018  0.301341  0.278753  0.297848  0.291077  \n",
      "18   0.333440  0.538286  0.637073  0.279477  0.533689  0.650264  0.288576  \n",
      "547  0.098265  0.197821  0.170368  0.100391  0.197400  0.161383  0.103753  \n",
      "28   0.737933  0.788628  0.775602  0.712880  0.831181  0.817513  0.763251  \n",
      "\n",
      "[5 rows x 67500 columns]\n",
      "(115, 67500)\n",
      "\n",
      "y_train : \n",
      "185    2\n",
      "224    3\n",
      "221    3\n",
      "31     0\n",
      "25     0\n",
      "Name: Target, dtype: int32\n",
      "(459,)\n",
      "\n",
      "y_test : \n",
      "98     1\n",
      "436    7\n",
      "18     0\n",
      "547    8\n",
      "28     0\n",
      "Name: Target, dtype: int32\n",
      "(115,)\n",
      "x_val : \n",
      "        0         1         2         3         4         5         6      \\\n",
      "327  1.000000  1.000000  1.000000  1.000000  1.000000  1.000000  1.000000   \n",
      "298  0.329523  0.364816  0.196190  0.331245  0.366538  0.197912  0.333507   \n",
      "274  0.791254  0.802979  0.765843  0.497297  0.545444  0.533440  0.689254   \n",
      "156  0.999900  0.992257  0.996078  0.999907  0.992249  0.996078  0.999809   \n",
      "80   0.201625  0.236903  0.057343  0.214159  0.248546  0.080368  0.205162   \n",
      "\n",
      "        7         8         9      ...     67490     67491     67492  \\\n",
      "327  1.000000  1.000000  1.000000  ...  1.000000  1.000000  1.000000   \n",
      "298  0.368792  0.200181  0.332426  ...  0.455686  0.531528  0.421498   \n",
      "274  0.725890  0.800295  0.619592  ...  0.504833  0.599839  0.548918   \n",
      "156  0.992348  0.996078  0.999861  ...  0.653872  0.736888  0.645305   \n",
      "80   0.236648  0.082576  0.173140  ...  0.188657  0.259005  0.223482   \n",
      "\n",
      "        67493     67494     67495     67496     67497     67498     67499  \n",
      "327  1.000000  1.000000  1.000000  1.000000  1.000000  1.000000  1.000000  \n",
      "298  0.339788  0.582537  0.461245  0.372270  0.516676  0.406728  0.319500  \n",
      "274  0.489383  0.597023  0.549256  0.491126  0.518312  0.471417  0.432485  \n",
      "156  0.642860  0.735160  0.638909  0.629363  0.705602  0.614637  0.617282  \n",
      "80   0.190811  0.260517  0.226228  0.198175  0.257811  0.223545  0.195580  \n",
      "\n",
      "[5 rows x 67500 columns]\n",
      "(58, 67500)\n",
      "\n",
      "y_val : \n",
      "327    5\n",
      "298    4\n",
      "274    4\n",
      "156    2\n",
      "80     1\n",
      "Name: Target, dtype: int32\n",
      "(58,)\n",
      "\n"
     ]
    }
   ],
   "source": [
    "from sklearn.model_selection import train_test_split\n",
    "from sklearn.linear_model import LinearRegression\n",
    "from sklearn.metrics import mean_squared_error\n",
    "\n",
    "\n",
    "# x is the pixel values\n",
    "\n",
    "\n",
    "#stratify (biases), target = y (label), validation data set (search it up)\n",
    "\n",
    "\n",
    "x_train, x_test, y_train, y_test = train_test_split(x, y, stratify = y, random_state=42, test_size=0.2, shuffle=True)\n",
    "print('x_train : ')\n",
    "print(x_train.head())\n",
    "print(x_train.shape)\n",
    "print('')\n",
    "print('x_test : ')\n",
    "print(x_test.head())\n",
    "print(x_test.shape)\n",
    "print('')\n",
    "print('y_train : ')\n",
    "print(y_train.head())\n",
    "print(y_train.shape)\n",
    "print('')\n",
    "print('y_test : ')\n",
    "print(y_test.head())\n",
    "print(y_test.shape)\n",
    "\n",
    "\n",
    "x_train, x_val, y_train, y_val = train_test_split(x_train, y_train, stratify = y_train, random_state=42, train_size=0.875 , shuffle=True) # train size = 0.8 x 0.875\n",
    "print('x_val : ')\n",
    "print(x_val.head())\n",
    "print(x_val.shape)\n",
    "print('')\n",
    "print('y_val : ')\n",
    "print(y_val.head())\n",
    "print(y_val.shape)\n",
    "print('')\n",
    "\n",
    "\n"
   ]
  },
  {
   "cell_type": "code",
   "execution_count": 27,
   "metadata": {},
   "outputs": [
    {
     "name": "stderr",
     "output_type": "stream",
     "text": [
      "100%|██████████| 99/99 [01:09<00:00,  1.43it/s]\n"
     ]
    }
   ],
   "source": [
    "from sklearn.neighbors import KNeighborsClassifier\n",
    "import tqdm\n",
    "models = []\n",
    "accuracy = []\n",
    "for i in tqdm.tqdm(range(1, 100)):\n",
    "    neigh = KNeighborsClassifier(i)\n",
    "    neigh.fit(x_train, y_train)\n",
    "    models.append(neigh)\n",
    "    pred_y = neigh.predict(x_val)\n",
    "    accuracy.append(percent(pred_y,y_val))\n",
    "    "
   ]
  },
  {
   "cell_type": "code",
   "execution_count": 84,
   "metadata": {},
   "outputs": [
    {
     "data": {
      "text/plain": [
       "Text(0, 0.5, 'Accuracy on validation set')"
      ]
     },
     "execution_count": 84,
     "metadata": {},
     "output_type": "execute_result"
    },
    {
     "data": {
      "image/png": "[encoded data removed]",
      "text/plain": [
       "<Figure size 640x480 with 1 Axes>"
      ]
     },
     "metadata": {},
     "output_type": "display_data"
    }
   ],
   "source": [
    "import matplotlib.pyplot as plt\n",
    "import seaborn as sns\n",
    "import pandas as pd\n",
    "import numpy as np\n",
    "sns.lineplot(accuracy)\n",
    "plt.xlabel(\"Number of neighbours\")\n",
    "plt.ylabel(\"Accuracy on validation set\")\n"
   ]
  },
  {
   "cell_type": "code",
   "execution_count": 76,
   "metadata": {},
   "outputs": [
    {
     "name": "stdout",
     "output_type": "stream",
     "text": [
      "25.862068965517242\n"
     ]
    }
   ],
   "source": [
    "maxvalue = max(accuracy)\n",
    "print(maxvalue)"
   ]
  },
  {
   "cell_type": "code",
   "execution_count": 79,
   "metadata": {},
   "outputs": [
    {
     "data": {
      "text/plain": [
       "49"
      ]
     },
     "execution_count": 79,
     "metadata": {},
     "output_type": "execute_result"
    }
   ],
   "source": [
    "max(enumerate(accuracy),key=lambda x: x[1])[0]"
   ]
  },
  {
   "cell_type": "code",
   "execution_count": 81,
   "metadata": {},
   "outputs": [],
   "source": [
    "best_model = models[49]"
   ]
  },
  {
   "cell_type": "code",
   "execution_count": 82,
   "metadata": {},
   "outputs": [
    {
     "data": {
      "text/plain": [
       "20.0"
      ]
     },
     "execution_count": 82,
     "metadata": {},
     "output_type": "execute_result"
    }
   ],
   "source": [
    "pred_test_y = best_model.predict(x_test)\n",
    "percent(pred_test_y, y_test)"
   ]
  },
  {
   "cell_type": "code",
   "execution_count": null,
   "metadata": {},
   "outputs": [],
   "source": []
  }
 ],
 "metadata": {
  "kernelspec": {
   "display_name": "Python 3",
   "language": "python",
   "name": "python3"
  },
  "language_info": {
   "codemirror_mode": {
    "name": "ipython",
    "version": 3
   },
   "file_extension": ".py",
   "mimetype": "text/x-python",
   "name": "python",
   "nbconvert_exporter": "python",
   "pygments_lexer": "ipython3",
   "version": "3.11.0"
  }
 },
 "nbformat": 4,
 "nbformat_minor": 2
}
